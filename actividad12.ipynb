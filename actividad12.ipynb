{
 "cells": [
  {
   "cell_type": "markdown",
   "id": "5c178bbd",
   "metadata": {},
   "source": [
    "1.  Matplotlib. Tiene una serie de 5 alumnos con sus notas con decimales. Mostrar las califaciones en un gráfico circular.\n",
    "2. os. Al ejecutar el código se crean 5 carpetas con el  nombre alumno_XXX\n",
    "las XXX es un número aleatorio entre 100 y 999\n",
    "3. WebScraping. Entra en youtube y guarda en un archivo las rutas de los vídeos que aparecen. "
   ]
  },
  {
   "cell_type": "code",
   "execution_count": 6,
   "id": "bc566726",
   "metadata": {},
   "outputs": [],
   "source": [
    "import os\n",
    "from numpy import random\n",
    "\n",
    "for i in range(5):\n",
    "    x = str(random.randint(100,999))\n",
    "    os.mkdir('Carmelo '+x)"
   ]
  },
  {
   "cell_type": "code",
   "execution_count": 24,
   "id": "77a6a09d",
   "metadata": {},
   "outputs": [
    {
     "name": "stdout",
     "output_type": "stream",
     "text": [
      "/sites/default/files/contenidos/blocks/logos-incibe/incibe-blanco.svg\n",
      "/sites/default/files/contenidos/blocks/logos-incibe/incibe-cert-blanco.svg\n",
      "/sites/default/files/contenidos/blocks/logos-incibe/protege-tu-empresa-2.svg\n",
      "/sites/default/files/contenidos/blocks/logos-incibe/menores-blanco.svg\n",
      "/sites/default/files/contenidos/blocks/logos-incibe/is4k-blanco.svg\n",
      "/sites/default/files/contenidos/blocks/logos-incibe/cybercamp-blanco.svg\n",
      "/sites/default/files/contenidos/blocks/logos-incibe/incibe-blanco.svg\n",
      "/sites/default/files/contenidos/blocks/logos-incibe/incibe-cert-blanco.svg\n",
      "/sites/default/files/contenidos/blocks/logos-incibe/protege-tu-empresa-2.svg\n",
      "/sites/default/files/contenidos/blocks/logos-incibe/menores-blanco.svg\n",
      "/sites/default/files/contenidos/blocks/logos-incibe/is4k-blanco.svg\n",
      "/sites/default/files/contenidos/blocks/logos-incibe/cybercamp-blanco.svg\n",
      "/sites/all/themes/incibeBase/assets/images/ico/cross.svg\n",
      "/sites/default/files/contenidos/banner/ncc_es-incibe.jpg\n",
      "/sites/default/files/contenidos/banner/guia-experienciasenior-policianacional-incibe.jpg\n",
      "/sites/default/files/contenidos/banner/analisis-diagnostico-talento-ciberseguridad.jpg\n",
      "/sites/default/files/contenidos/banner/tu-ayuda-ciberseguridad-incibe.jpg\n",
      "/sites/default/files/public/destacados/tu-ayuda-ciberseguridad-nuevos-canales.jpg\n",
      "/sites/default/files/public/actualidad_home/matchmakingcpi-incibe.jpg\n",
      "/sites/default/files/public/actualidad_home/boletin-ciberseguridad-incibe-2.jpg\n",
      "/sites/default/files/public/actualidad_home/clausura16enise-incibe.jpg\n",
      "/sites/default/files/contenidos/conoce_incibe/incibe.jpg\n",
      "/sites/default/files/contenidos/conoce_incibe/incibe-cert.jpg\n",
      "/sites/default/files/contenidos/conoce_incibe/protege.jpg\n",
      "/sites/default/files/contenidos/conoce_incibe/osi.jpg\n",
      "/sites/default/files/contenidos/conoce_incibe/is4k.jpg\n",
      "/sites/default/files/contenidos/conoce_incibe/incibe-emprende.jpg\n",
      "/sites/default/files/public/eventos/sbc_v2.jpg\n",
      "/sites/default/files/public/eventos/enise_generico.jpg\n",
      "/sites/default/files/public/eventos/mujeresciber.jpg\n",
      "/sites/default/files/public/widget/017_ayuda_en_ciberseguridad.jpg\n",
      "https://www.incibe.es/sites/default/files/paginas/aprendeciberseguridad/portada.jpg\n",
      "/sites/default/files/contenidos/blocks/logos-incibe/incibe-blanco.svg\n",
      "/sites/default/files/contenidos/blocks/logos-incibe/incibe-cert-blanco.svg\n",
      "/sites/default/files/contenidos/blocks/logos-incibe/protege-tu-empresa-2.svg\n",
      "/sites/default/files/contenidos/blocks/logos-incibe/menores-blanco.svg\n",
      "/sites/default/files/contenidos/blocks/logos-incibe/is4k-blanco.svg\n",
      "/sites/default/files/contenidos/blocks/logos-incibe/cybercamp-blanco.svg\n",
      "/sites/default/files/contenidos/blocks/logos-sellos/financiado-union-europea.png\n",
      "/sites/default/files/contenidos/blocks/logos-sellos/vice1-mineco-sedia.png\n",
      "/sites/default/files/contenidos/blocks/logos-sellos/plan-recuperacion-transformacion-resiliencia.png\n",
      "/sites/default/files/contenidos/blocks/logos-sellos/espana-digital.png\n",
      "/sites/default/files/contenidos/blocks/logos-sellos/certificado_ens_web_2017.png\n",
      "/sites/default/files/contenidos/blocks/logos-sellos/27001.png\n",
      "/sites/default/files/contenidos/blocks/logos-sellos/9001.png\n",
      "/sites/default/files/public/rrss/twitter.png\n",
      "/sites/default/files/public/rrss/instagram.png\n",
      "/sites/default/files/public/rrss/linkedin.png\n",
      "/sites/default/files/public/rrss/facebook.png\n",
      "/sites/default/files/public/rrss/youtube.png\n",
      "/sites/default/files/public/rrss/telegram.png\n"
     ]
    }
   ],
   "source": [
    "import requests\n",
    "from bs4 import BeautifulSoup\n",
    "\n",
    "web='https://www.incibe.es/'\n",
    "rastreo=requests.get(web) #devuelve 200 code status\n",
    "soup=BeautifulSoup(rastreo.content,'html.parser')\n",
    "buscar=soup.find_all('img')#permite recorrer html id, class, etiqueta..\n",
    "#videos=soup.find_all(\"div\", class_=\"ytp-cued-thumbnail-overlay-image\")\n",
    "f=open('archivo.txt','a')\n",
    "for item in buscar:\n",
    "    f.write(str(item['src']+'\\n'))\n",
    "    print(item['src'])\n",
    "f.close()\n",
    "\n",
    "#print(rastreo.content)"
   ]
  },
  {
   "cell_type": "code",
   "execution_count": null,
   "id": "aee1c272",
   "metadata": {},
   "outputs": [],
   "source": []
  }
 ],
 "metadata": {
  "kernelspec": {
   "display_name": "Python 3 (ipykernel)",
   "language": "python",
   "name": "python3"
  },
  "language_info": {
   "codemirror_mode": {
    "name": "ipython",
    "version": 3
   },
   "file_extension": ".py",
   "mimetype": "text/x-python",
   "name": "python",
   "nbconvert_exporter": "python",
   "pygments_lexer": "ipython3",
   "version": "3.9.13"
  }
 },
 "nbformat": 4,
 "nbformat_minor": 5
}
